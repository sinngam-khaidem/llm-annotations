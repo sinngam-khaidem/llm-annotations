{
 "cells": [
  {
   "cell_type": "code",
   "execution_count": 1,
   "metadata": {},
   "outputs": [],
   "source": [
    "import pandas as pd"
   ]
  },
  {
   "cell_type": "code",
   "execution_count": 2,
   "metadata": {},
   "outputs": [],
   "source": [
    "df1 = pd.read_csv('csv_files/sinngam-annotated_corrected_with_contexts.csv')\n",
    "df2 = pd.read_csv('csv_files/albert-annotated_corrected_with_contexts.csv')"
   ]
  },
  {
   "cell_type": "code",
   "execution_count": 4,
   "metadata": {},
   "outputs": [
    {
     "name": "stdout",
     "output_type": "stream",
     "text": [
      "(920, 9)\n",
      "(920, 9)\n"
     ]
    }
   ],
   "source": [
    "print(df1.shape)\n",
    "print(df2.shape)"
   ]
  },
  {
   "cell_type": "code",
   "execution_count": 5,
   "metadata": {},
   "outputs": [
    {
     "data": {
      "text/html": [
       "<div>\n",
       "<style scoped>\n",
       "    .dataframe tbody tr th:only-of-type {\n",
       "        vertical-align: middle;\n",
       "    }\n",
       "\n",
       "    .dataframe tbody tr th {\n",
       "        vertical-align: top;\n",
       "    }\n",
       "\n",
       "    .dataframe thead th {\n",
       "        text-align: right;\n",
       "    }\n",
       "</style>\n",
       "<table border=\"1\" class=\"dataframe\">\n",
       "  <thead>\n",
       "    <tr style=\"text-align: right;\">\n",
       "      <th></th>\n",
       "      <th>submissionId</th>\n",
       "      <th>submissionURL</th>\n",
       "      <th>submissionTitle</th>\n",
       "      <th>context1</th>\n",
       "      <th>context2</th>\n",
       "      <th>utterance</th>\n",
       "      <th>isTextSarcastic?</th>\n",
       "      <th>isImageSarcastic?</th>\n",
       "      <th>isTogetherSarcastic?</th>\n",
       "    </tr>\n",
       "  </thead>\n",
       "  <tbody>\n",
       "    <tr>\n",
       "      <th>0</th>\n",
       "      <td>1dncran</td>\n",
       "      <td>https://i.redd.it/1xvccvq6oi8d1.jpeg</td>\n",
       "      <td>the clouds did a thing this morning...</td>\n",
       "      <td>looks like someone laid out some rails of blow</td>\n",
       "      <td>all the deities got together are they are havi...</td>\n",
       "      <td>colombian clouds</td>\n",
       "      <td>1</td>\n",
       "      <td>0</td>\n",
       "      <td>1</td>\n",
       "    </tr>\n",
       "    <tr>\n",
       "      <th>1</th>\n",
       "      <td>c9tdn7</td>\n",
       "      <td>https://i.imgur.com/6KzNep5.jpg</td>\n",
       "      <td>looks like i won't be listening to my new viny...</td>\n",
       "      <td>it’s even crammed in there so hard your mailbo...</td>\n",
       "      <td>is there's a way to ask for a refund from the ...</td>\n",
       "      <td>how can an assigned delivery person not know t...</td>\n",
       "      <td>0</td>\n",
       "      <td>0</td>\n",
       "      <td>1</td>\n",
       "    </tr>\n",
       "    <tr>\n",
       "      <th>2</th>\n",
       "      <td>kctb6e</td>\n",
       "      <td>https://i.redd.it/9knprglwx3561.jpg</td>\n",
       "      <td>sounded way better in my head</td>\n",
       "      <td>i hope we get our 9-month cupcake in a cup.</td>\n",
       "      <td>bruh wall-e's my fav pixar movie! take my upvo...</td>\n",
       "      <td>i remember when it was just supposed to be a m...</td>\n",
       "      <td>0</td>\n",
       "      <td>1</td>\n",
       "      <td>1</td>\n",
       "    </tr>\n",
       "    <tr>\n",
       "      <th>3</th>\n",
       "      <td>oagyyo</td>\n",
       "      <td>https://i.redd.it/dm6sx4nqn9871.jpg</td>\n",
       "      <td>was just trying to help the driver.</td>\n",
       "      <td>orders $10 in food. tries to leave $5.50 tip. ...</td>\n",
       "      <td>more that?</td>\n",
       "      <td>maybe it prevents accidentally doing the wrong...</td>\n",
       "      <td>0</td>\n",
       "      <td>0</td>\n",
       "      <td>1</td>\n",
       "    </tr>\n",
       "    <tr>\n",
       "      <th>4</th>\n",
       "      <td>faw3bs</td>\n",
       "      <td>https://i.imgur.com/gwVDXvB.jpg</td>\n",
       "      <td>wow</td>\n",
       "      <td>holy shit, i've seen a lot of these but that i...</td>\n",
       "      <td>the really boring dorian grey</td>\n",
       "      <td>step 1: dress up as subject.\\n\\nstep 2: walk u...</td>\n",
       "      <td>1</td>\n",
       "      <td>1</td>\n",
       "      <td>1</td>\n",
       "    </tr>\n",
       "  </tbody>\n",
       "</table>\n",
       "</div>"
      ],
      "text/plain": [
       "  submissionId                         submissionURL  \\\n",
       "0      1dncran  https://i.redd.it/1xvccvq6oi8d1.jpeg   \n",
       "1       c9tdn7       https://i.imgur.com/6KzNep5.jpg   \n",
       "2       kctb6e   https://i.redd.it/9knprglwx3561.jpg   \n",
       "3       oagyyo   https://i.redd.it/dm6sx4nqn9871.jpg   \n",
       "4       faw3bs       https://i.imgur.com/gwVDXvB.jpg   \n",
       "\n",
       "                                     submissionTitle  \\\n",
       "0             the clouds did a thing this morning...   \n",
       "1  looks like i won't be listening to my new viny...   \n",
       "2                      sounded way better in my head   \n",
       "3                was just trying to help the driver.   \n",
       "4                                                wow   \n",
       "\n",
       "                                            context1  \\\n",
       "0     looks like someone laid out some rails of blow   \n",
       "1  it’s even crammed in there so hard your mailbo...   \n",
       "2        i hope we get our 9-month cupcake in a cup.   \n",
       "3  orders $10 in food. tries to leave $5.50 tip. ...   \n",
       "4  holy shit, i've seen a lot of these but that i...   \n",
       "\n",
       "                                            context2  \\\n",
       "0  all the deities got together are they are havi...   \n",
       "1  is there's a way to ask for a refund from the ...   \n",
       "2  bruh wall-e's my fav pixar movie! take my upvo...   \n",
       "3                                         more that?   \n",
       "4                      the really boring dorian grey   \n",
       "\n",
       "                                           utterance  isTextSarcastic?  \\\n",
       "0                                   colombian clouds                 1   \n",
       "1  how can an assigned delivery person not know t...                 0   \n",
       "2  i remember when it was just supposed to be a m...                 0   \n",
       "3  maybe it prevents accidentally doing the wrong...                 0   \n",
       "4  step 1: dress up as subject.\\n\\nstep 2: walk u...                 1   \n",
       "\n",
       "   isImageSarcastic?  isTogetherSarcastic?  \n",
       "0                  0                     1  \n",
       "1                  0                     1  \n",
       "2                  1                     1  \n",
       "3                  0                     1  \n",
       "4                  1                     1  "
      ]
     },
     "execution_count": 5,
     "metadata": {},
     "output_type": "execute_result"
    }
   ],
   "source": [
    "df1.head(5)"
   ]
  },
  {
   "cell_type": "code",
   "execution_count": 6,
   "metadata": {},
   "outputs": [
    {
     "data": {
      "text/html": [
       "<div>\n",
       "<style scoped>\n",
       "    .dataframe tbody tr th:only-of-type {\n",
       "        vertical-align: middle;\n",
       "    }\n",
       "\n",
       "    .dataframe tbody tr th {\n",
       "        vertical-align: top;\n",
       "    }\n",
       "\n",
       "    .dataframe thead th {\n",
       "        text-align: right;\n",
       "    }\n",
       "</style>\n",
       "<table border=\"1\" class=\"dataframe\">\n",
       "  <thead>\n",
       "    <tr style=\"text-align: right;\">\n",
       "      <th></th>\n",
       "      <th>submissionId</th>\n",
       "      <th>submissionURL</th>\n",
       "      <th>submissionTitle</th>\n",
       "      <th>context1</th>\n",
       "      <th>context2</th>\n",
       "      <th>utterance</th>\n",
       "      <th>isTextSarcastic?</th>\n",
       "      <th>isImageSarcastic?</th>\n",
       "      <th>isTogetherSarcastic?</th>\n",
       "    </tr>\n",
       "  </thead>\n",
       "  <tbody>\n",
       "    <tr>\n",
       "      <th>0</th>\n",
       "      <td>1dncran</td>\n",
       "      <td>https://i.redd.it/1xvccvq6oi8d1.jpeg</td>\n",
       "      <td>the clouds did a thing this morning...</td>\n",
       "      <td>looks like someone laid out some rails of blow</td>\n",
       "      <td>all the deities got together are they are havi...</td>\n",
       "      <td>colombian clouds</td>\n",
       "      <td>1</td>\n",
       "      <td>0</td>\n",
       "      <td>1</td>\n",
       "    </tr>\n",
       "    <tr>\n",
       "      <th>1</th>\n",
       "      <td>c9tdn7</td>\n",
       "      <td>https://i.imgur.com/6KzNep5.jpg</td>\n",
       "      <td>looks like i won't be listening to my new viny...</td>\n",
       "      <td>it’s even crammed in there so hard your mailbo...</td>\n",
       "      <td>is there's a way to ask for a refund from the ...</td>\n",
       "      <td>how can an assigned delivery person not know t...</td>\n",
       "      <td>1</td>\n",
       "      <td>0</td>\n",
       "      <td>1</td>\n",
       "    </tr>\n",
       "    <tr>\n",
       "      <th>2</th>\n",
       "      <td>kctb6e</td>\n",
       "      <td>https://i.redd.it/9knprglwx3561.jpg</td>\n",
       "      <td>sounded way better in my head</td>\n",
       "      <td>i hope we get our 9-month cupcake in a cup.</td>\n",
       "      <td>bruh wall-e's my fav pixar movie! take my upvo...</td>\n",
       "      <td>i remember when it was just supposed to be a m...</td>\n",
       "      <td>1</td>\n",
       "      <td>1</td>\n",
       "      <td>1</td>\n",
       "    </tr>\n",
       "    <tr>\n",
       "      <th>3</th>\n",
       "      <td>oagyyo</td>\n",
       "      <td>https://i.redd.it/dm6sx4nqn9871.jpg</td>\n",
       "      <td>was just trying to help the driver.</td>\n",
       "      <td>orders $10 in food. tries to leave $5.50 tip. ...</td>\n",
       "      <td>more that?</td>\n",
       "      <td>maybe it prevents accidentally doing the wrong...</td>\n",
       "      <td>0</td>\n",
       "      <td>0</td>\n",
       "      <td>1</td>\n",
       "    </tr>\n",
       "    <tr>\n",
       "      <th>4</th>\n",
       "      <td>faw3bs</td>\n",
       "      <td>https://i.imgur.com/gwVDXvB.jpg</td>\n",
       "      <td>wow</td>\n",
       "      <td>holy shit, i've seen a lot of these but that i...</td>\n",
       "      <td>the really boring dorian grey</td>\n",
       "      <td>step 1: dress up as subject.\\n\\nstep 2: walk u...</td>\n",
       "      <td>0</td>\n",
       "      <td>1</td>\n",
       "      <td>1</td>\n",
       "    </tr>\n",
       "  </tbody>\n",
       "</table>\n",
       "</div>"
      ],
      "text/plain": [
       "  submissionId                         submissionURL  \\\n",
       "0      1dncran  https://i.redd.it/1xvccvq6oi8d1.jpeg   \n",
       "1       c9tdn7       https://i.imgur.com/6KzNep5.jpg   \n",
       "2       kctb6e   https://i.redd.it/9knprglwx3561.jpg   \n",
       "3       oagyyo   https://i.redd.it/dm6sx4nqn9871.jpg   \n",
       "4       faw3bs       https://i.imgur.com/gwVDXvB.jpg   \n",
       "\n",
       "                                     submissionTitle  \\\n",
       "0             the clouds did a thing this morning...   \n",
       "1  looks like i won't be listening to my new viny...   \n",
       "2                      sounded way better in my head   \n",
       "3                was just trying to help the driver.   \n",
       "4                                                wow   \n",
       "\n",
       "                                            context1  \\\n",
       "0     looks like someone laid out some rails of blow   \n",
       "1  it’s even crammed in there so hard your mailbo...   \n",
       "2        i hope we get our 9-month cupcake in a cup.   \n",
       "3  orders $10 in food. tries to leave $5.50 tip. ...   \n",
       "4  holy shit, i've seen a lot of these but that i...   \n",
       "\n",
       "                                            context2  \\\n",
       "0  all the deities got together are they are havi...   \n",
       "1  is there's a way to ask for a refund from the ...   \n",
       "2  bruh wall-e's my fav pixar movie! take my upvo...   \n",
       "3                                         more that?   \n",
       "4                      the really boring dorian grey   \n",
       "\n",
       "                                           utterance  isTextSarcastic?  \\\n",
       "0                                   colombian clouds                 1   \n",
       "1  how can an assigned delivery person not know t...                 1   \n",
       "2  i remember when it was just supposed to be a m...                 1   \n",
       "3  maybe it prevents accidentally doing the wrong...                 0   \n",
       "4  step 1: dress up as subject.\\n\\nstep 2: walk u...                 0   \n",
       "\n",
       "   isImageSarcastic?  isTogetherSarcastic?  \n",
       "0                  0                     1  \n",
       "1                  0                     1  \n",
       "2                  1                     1  \n",
       "3                  0                     1  \n",
       "4                  1                     1  "
      ]
     },
     "execution_count": 6,
     "metadata": {},
     "output_type": "execute_result"
    }
   ],
   "source": [
    "df2.head(5)"
   ]
  },
  {
   "cell_type": "code",
   "execution_count": 7,
   "metadata": {},
   "outputs": [],
   "source": [
    "from sklearn.metrics import cohen_kappa_score\n",
    "def compute_accuracy(y_true, y_pred):\n",
    "    \"\"\"\n",
    "    Computes accuracy by comparing the true labels with the predicted labels.\n",
    "    \"\"\"\n",
    "    correct_predictions = sum(y_t == y_p for y_t, y_p in zip(y_true, y_pred))\n",
    "    accuracy = correct_predictions / len(y_true)\n",
    "    return accuracy\n",
    "\n",
    "def compute_precision(y_true, y_pred):\n",
    "    \"\"\"\n",
    "    Computes precision by calculating the ratio of true positives to the sum of true and false positives.\n",
    "    \"\"\"\n",
    "    true_positives = sum((y_t == 1 and y_p == 1) for y_t, y_p in zip(y_true, y_pred))\n",
    "    predicted_positives = sum(y_p == 1 for y_p in y_pred)\n",
    "    precision = true_positives / predicted_positives if predicted_positives > 0 else 0\n",
    "    return precision\n",
    "\n",
    "def compute_recall(y_true, y_pred):\n",
    "    \"\"\"\n",
    "    Computes recall by calculating the ratio of true positives to the sum of true positives and false negatives.\n",
    "    \"\"\"\n",
    "    true_positives = sum((y_t == 1 and y_p == 1) for y_t, y_p in zip(y_true, y_pred))\n",
    "    actual_positives = sum(y_t == 1 for y_t in y_true)\n",
    "    recall = true_positives / actual_positives if actual_positives > 0 else 0\n",
    "    return recall\n",
    "\n",
    "def compute_f1(precision, recall):\n",
    "    \"\"\"\n",
    "    Computes F1 score as the harmonic mean of precision and recall.\n",
    "    \"\"\"\n",
    "    if precision + recall == 0:\n",
    "        return 0\n",
    "    f1_score = 2 * (precision * recall) / (precision + recall)\n",
    "    return f1_score\n",
    "\n",
    "def evaluate(y_true, y_pred):\n",
    "    accuracy = compute_accuracy(y_true, y_pred)\n",
    "    precision = compute_precision(y_true, y_pred)\n",
    "    recall = compute_recall(y_true, y_pred)\n",
    "    f1 = compute_f1(precision, recall)\n",
    "    kappa = cohen_kappa_score(y_true, y_pred)\n",
    "\n",
    "    print(\"\\tAccuracy: \", accuracy, \"\\n\", \"\\tPrecision: \", precision,\"\\n\", \"\\tRecall: \", recall, \"\\n\", \"\\tF1 score: \", f1,\"\\n\", \"\\tCohen's Kappa Score: \", kappa)\n",
    "    "
   ]
  },
  {
   "cell_type": "code",
   "execution_count": 16,
   "metadata": {},
   "outputs": [
    {
     "name": "stdout",
     "output_type": "stream",
     "text": [
      "Percentage of agreement:  0.6239130434782608\n",
      "Cohen's Kappa Score:  0.21659349097281022\n"
     ]
    }
   ],
   "source": [
    "print(\"Percentage of agreement: \", compute_accuracy(df1[\"isTextSarcastic?\"].to_list(), df2[\"isTextSarcastic?\"].to_list()))\n",
    "print(\"Cohen's Kappa Score: \", cohen_kappa_score(df1[\"isTextSarcastic?\"].to_list(), df2[\"isTextSarcastic?\"].to_list()))"
   ]
  },
  {
   "cell_type": "code",
   "execution_count": 8,
   "metadata": {},
   "outputs": [
    {
     "name": "stdout",
     "output_type": "stream",
     "text": [
      "\tAccuracy:  0.6239130434782608 \n",
      " \tPrecision:  0.6637630662020906 \n",
      " \tRecall:  0.7134831460674157 \n",
      " \tF1 score:  0.687725631768953 \n",
      " \tCohen's Kappa Score:  0.21659349097281022\n"
     ]
    }
   ],
   "source": [
    "evaluate(df1[\"isTextSarcastic?\"].to_list(), df2[\"isTextSarcastic?\"].to_list())"
   ]
  },
  {
   "cell_type": "code",
   "execution_count": 13,
   "metadata": {},
   "outputs": [],
   "source": [
    "new_df = df2[df2[\"isTextSarcastic?\"] != df1[\"isTextSarcastic?\"]]"
   ]
  },
  {
   "cell_type": "code",
   "execution_count": 14,
   "metadata": {},
   "outputs": [
    {
     "data": {
      "text/plain": [
       "(346, 9)"
      ]
     },
     "execution_count": 14,
     "metadata": {},
     "output_type": "execute_result"
    }
   ],
   "source": [
    "new_df.shape"
   ]
  },
  {
   "cell_type": "code",
   "execution_count": 15,
   "metadata": {},
   "outputs": [],
   "source": [
    "new_df.to_csv(\"csv_files/third_text_recheck.csv\")"
   ]
  },
  {
   "cell_type": "code",
   "execution_count": null,
   "metadata": {},
   "outputs": [],
   "source": []
  }
 ],
 "metadata": {
  "kernelspec": {
   "display_name": "ml_env",
   "language": "python",
   "name": "python3"
  },
  "language_info": {
   "codemirror_mode": {
    "name": "ipython",
    "version": 3
   },
   "file_extension": ".py",
   "mimetype": "text/x-python",
   "name": "python",
   "nbconvert_exporter": "python",
   "pygments_lexer": "ipython3",
   "version": "3.10.12"
  }
 },
 "nbformat": 4,
 "nbformat_minor": 2
}
