{
 "cells": [
  {
   "cell_type": "code",
   "execution_count": 3,
   "metadata": {},
   "outputs": [],
   "source": [
    "!pip3 install -q -U google-generativeai"
   ]
  },
  {
   "cell_type": "code",
   "execution_count": 7,
   "metadata": {},
   "outputs": [],
   "source": [
    "from dotenv import load_dotenv\n",
    "import os\n",
    "load_dotenv()\n",
    "\n",
    "GEMINI_API_KEY = os.getenv(\"GEMINI_API_KEY\")"
   ]
  },
  {
   "cell_type": "code",
   "execution_count": 8,
   "metadata": {},
   "outputs": [],
   "source": [
    "import google.generativeai as genai\n",
    "from IPython.display import Image, display\n",
    "import PIL.Image\n",
    "\n",
    "genai.configure(api_key=GEMINI_API_KEY)\n",
    "model = genai.GenerativeModel(model_name=\"gemini-1.5-flash\")"
   ]
  },
  {
   "cell_type": "markdown",
   "metadata": {},
   "source": [
    "### Prompts for few shot prompting"
   ]
  },
  {
   "cell_type": "code",
   "execution_count": 22,
   "metadata": {},
   "outputs": [],
   "source": [
    "prompt1 = \"\"\"\n",
    "You are given a pair of text and image. Your task is to determine whether sarcasm is present using the following guidelines:\n",
    "\n",
    "1. First, ignore the image and analyze the text alone to see if it is sarcastic.\n",
    "2. Next, ignore the text and analyze the image alone to determine if it conveys sarcasm.\n",
    "3. Finally, consider the text and image together to see if they reinforce each other to create an overall sarcastic impression.\n",
    "\n",
    "Use 1 to indicate sarcasm and 0 if no sarcasm is detected.\n",
    "\n",
    "Here are a few examples:\n",
    "\"\"\"\n",
    "\n",
    "prompt2 = \"\"\"\n",
    "You are given a pair consisting of a text and an image. The text can be of two types:\n",
    "1. Internal Text: Text embedded within the image, considered as part of the image.\n",
    "2. External Text: Separate text that accompanies the image but is independent of it.\n",
    "\n",
    "Sarcasm in External Text:\n",
    "    - The external text may be sarcastic on its own, without any influence from the image (with or without internal text).\n",
    "    - Alternatively, the sarcastic nature of the external text may only become apparent when combined with the image (with or without internal text).\n",
    "Sarcasm in the Image:\n",
    "    - The image (with or without internal text) may be independently sarcastic, without any influence from the external text.\n",
    "    - Alternatively, the sarcastic nature of the image (with or without internal text) may only become apparent when combined with the external text.\n",
    "Sarcasm in the (Text, Image) Pair:\n",
    "    - Consider both the external text, the internal text (if any), and the image together to determine if they collectively create a sarcastic impression.\n",
    "\n",
    "Your task is to determine whether sarcasm is present using the following guidelines:\n",
    "\n",
    "1. First, ignore the image(and any internal text) and analyze the external text alone to see if it is sarcastic.\n",
    "2. Next, ignore the external text and analyze the image(with or without internal text) alone to determine if it conveys sarcasm.\n",
    "3. Finally, consider the external text, internal text (if any), and the image together to see if they reinforce each other to create an overall sarcastic impression.\n",
    "\n",
    "Use 1 to indicate sarcasm and 0 if no sarcasm is detected.\n",
    "\n",
    "Here are a few examples:\n",
    "\"\"\"\n",
    "\n",
    "prompt3 = \"\"\"\n",
    "You are given a pair of text and image. Your task is to determine whether sarcasm is present using the following guidelines:\n",
    "\n",
    "1. First, ignore the image and analyze the text alone to see if it is sarcastic.\n",
    "2. Next, ignore the text and analyze the image alone to determine if it conveys sarcasm.\n",
    "3. Finally, consider the text and image together to see if they reinforce each other to create an overall sarcastic impression.\n",
    "\n",
    "Use 1 to indicate sarcasm and 0 if no sarcasm is detected.\n",
    "\n",
    "Possible Cases:\n",
    "Case 1: Text is sarcastic, Image is sarcastic, Text-Image combination is sarcastic.\n",
    "{\"isTextSarcastic?\": 1, \"isImageSarcastic?\": 1, \"isTogetherSarcastic?\": 1}\n",
    "\n",
    "Case 2: Text is not sarcastic, Image is sarcastic, Text-Image combination is sarcastic.\n",
    "{\"isTextSarcastic?\": 0, \"isImageSarcastic?\": 1, \"isTogetherSarcastic?\": 1}\n",
    "\n",
    "Case 3: Text is sarcastic, Image is not sarcastic, Text-Image combination is sarcastic.\n",
    "{\"isTextSarcastic?\": 1, \"isImageSarcastic?\": 0, \"isTogetherSarcastic?\": 1}\n",
    "\n",
    "Case 4: Text is not sarcastic, Image is not sarcastic, Text-Image combination is sarcastic.\n",
    "{\"isTextSarcastic?\": 0, \"isImageSarcastic?\": 0, \"isTogetherSarcastic?\": 1}\n",
    "\n",
    "Case 5: Text is not sarcastic, Image is not sarcastic, Text-Image combination is not sarcastic.\n",
    "{\"isTextSarcastic?\": 0, \"isImageSarcastic?\": 0, \"isTogetherSarcastic?\": 0} \n",
    "\n",
    "Here are a few examples:\n",
    "\"\"\"\n",
    "prompt4 = \"\"\"\n",
    "You are given a pair of text and image. Your task is to determine whether sarcasm is present using the following guidelines:\n",
    "\n",
    "1. First, analyze the text alone to see if it is sarcastic.\n",
    "    If text is sarcastic, then isTextSarcastic? = 1. Else, isTextSarcastic? = 0\n",
    "2. Next, ignore the text and analyze the image alone to determine if it conveys sarcasm.\n",
    "    If image is sarcastic, then isImageSarcastic? = 1. Else, isImageSarcastic? = 0\n",
    "3. Finally, consider the text and image together to see if they reinforce each other to create an overall sarcastic impression.\n",
    "    If combination is sarcastic, then isTogetherSarcastic? = 1. Else, isTogetherSarcastic? = 0\n",
    "\n",
    "Use 1 to indicate sarcasm and 0 if no sarcasm is detected.\n",
    "Here are a few examples:\n",
    "\"\"\""
   ]
  },
  {
   "cell_type": "code",
   "execution_count": 23,
   "metadata": {},
   "outputs": [],
   "source": [
    "def provide_prompt() -> list[str]:\n",
    "    examples = [\n",
    "        (\n",
    "            \"Text associated with image is: strange bedfellows why is this so relatable?\",\n",
    "            \"Sample Images/ayezy8.png\",\n",
    "            \"\"\"{\"isTextSarcastic?\": 0, \"isImageSarcastic?\": 1, \"isTogetherSarcastic?\": 1}\"\"\"\n",
    "        ),\n",
    "        (\n",
    "            \"Text associated with image is: calm down 50 points for actually putting a camera in\",\n",
    "            \"Sample Images/epymwl.png\",\n",
    "            \"\"\"{\"isTextSarcastic?\": 0, \"isImageSarcastic?\": 1, \"isTogetherSarcastic?\": 1}\"\"\"\n",
    "        ),\n",
    "        (\n",
    "            \"Text associated with image is:  the cable guy installed the cable through our hula hoop that we left out. makes sense. cable companies popularity ranks somewhere between flying cockroaches and dog shit stuck to your shoe.\",\n",
    "            \"Sample Images/cable.png\",\n",
    "            \"\"\"{\"isTextSarcastic?\": 1, \"isImageSarcastic?\": 0, \"isTogetherSarcastic?\": 1}\"\"\"\n",
    "        ),\n",
    "        (\n",
    "            \"Text associated with image is: my husband keeps opening new jars of jam before he's even finished the last one. 1 or 2 i could understand, but at this point i would seek help\",\n",
    "            \"Sample Images/jam.png\",\n",
    "            \"\"\"{\"isTextSarcastic?\": 1, \"isImageSarcastic?\": 0, \"isTogetherSarcastic?\": 1}\"\"\"\n",
    "        ),\n",
    "        (\n",
    "            \"Text associated with image is: snake violently comitted suicide\",\n",
    "            \"Sample Images/snake.png\",\n",
    "            \"\"\"{\"isTextSarcastic?\": 0, \"isImageSarcastic?\": 0, \"isTogetherSarcastic?\": 1}\"\"\"\n",
    "        ),\n",
    "        (\n",
    "            \"Text associated with image is: Ahh, such a shortage of cabs in the city.\",\n",
    "            \"Sample Images/Traffic_bounded.png\",\n",
    "            \"\"\"{\"isTextSarcastic?\": 0, \"isImageSarcastic?\": 0, \"isTogetherSarcastic?\": 1}\"\"\",\n",
    "        ),\n",
    "        (\n",
    "            \"Text associated with image is: i put that shit right there, said the jesus calmly god was calling them to heaven!\",\n",
    "            \"Sample Images/tumor.png\",\n",
    "            \"\"\"{\"isTextSarcastic?\": 1, \"isImageSarcastic?\": 1, \"isTogetherSarcastic?\": 1}\"\"\",\n",
    "        ),\n",
    "        (\n",
    "            \"Text associated with image is: in a time before selfies my apologies, it hath already been snap-chatted to thine peeps milady\",\n",
    "            \"Sample Images/oil_painting.png\",\n",
    "            \"\"\"{\"isTextSarcastic?\": 1, \"isImageSarcastic?\": 1, \"isTogetherSarcastic?\": 1}\"\"\",\n",
    "        ),\n",
    "        (\n",
    "            \"Text associated with image is: had a great visit today at east texas baptist university!\",\n",
    "            \"Sample Images/university.png\",\n",
    "            \"\"\"{\"isTextSarcastic?\": 0, \"isImageSarcastic?\": 0, \"isTogetherSarcastic?\": 0}\"\"\",\n",
    "        ),\n",
    "        (\n",
    "            \"Text associated with image is: january 's plant of the month is lotus flowers , a symbol of how great beauty can arise from the most abject of conditions . happy saturday !\",\n",
    "            \"Sample Images/lotus.png\",\n",
    "            \"\"\"{\"isTextSarcastic?\": 0, \"isImageSarcastic?\": 0, \"isTogetherSarcastic?\": 0}\"\"\",\n",
    "        )\n",
    "    ]\n",
    "\n",
    "    message = [prompt4]\n",
    "\n",
    "\n",
    "    for caption, image, resp in examples:\n",
    "        message = message + [\n",
    "            caption, \n",
    "            PIL.Image.open(image), \n",
    "            resp\n",
    "        ]\n",
    "\n",
    "    return message"
   ]
  },
  {
   "cell_type": "code",
   "execution_count": 28,
   "metadata": {},
   "outputs": [
    {
     "data": {
      "text/plain": [
       "\"Yes, the image is sarcastic. The caption implies that the man's beard has moved to his chin to hear the music, which is obviously not possible. This humorous exaggeration creates a sarcastic tone. \\n\""
      ]
     },
     "execution_count": 28,
     "metadata": {},
     "output_type": "execute_result"
    }
   ],
   "source": [
    "response = model.generate_content(\n",
    "    [\n",
    "        \"Is this image sarcastic?\",\n",
    "        PIL.Image.open(\"Sample Images/beard.png\")\n",
    "    ]\n",
    ")\n",
    "response.text"
   ]
  },
  {
   "cell_type": "code",
   "execution_count": 24,
   "metadata": {},
   "outputs": [],
   "source": [
    "def detect_sarcasm(image_path: str, text: str) -> str:\n",
    "    response = model.generate_content(\n",
    "        provide_prompt() + [\n",
    "            f\"Text associated with image is: {text}\",\n",
    "            PIL.Image.open(image_path)\n",
    "        ]\n",
    "    )\n",
    "    return response.text\n"
   ]
  },
  {
   "cell_type": "code",
   "execution_count": 30,
   "metadata": {},
   "outputs": [],
   "source": [
    "def process_image_text_pairs(image_text_pairs: list[ tuple[ str, str] ]) -> list[ tuple[str,str,str] ]:\n",
    "    results = []\n",
    "    for image_path, text in image_text_pairs:\n",
    "        result = detect_sarcasm(image_path, text)\n",
    "        results.append((image_path, text, result))\n",
    "    return results"
   ]
  },
  {
   "cell_type": "code",
   "execution_count": 12,
   "metadata": {},
   "outputs": [],
   "source": [
    "def main():\n",
    "\n",
    "    image_text_pairs= [\n",
    "        ('Sample Images/bill.png', \"helicopter ride to the hospital if they showed me the bill mid flight i would have jumped out.\"),\n",
    "        ('Sample Images/airpod.png', \"this rock looks like an airpod case it is obviously for rock music\"),\n",
    "        ('Sample Images/beard.png', \"so the advice here is if you want to keep your hair on your head you shouldn't play guitar i think this is a compliment, friend\"),\n",
    "        ('Sample Images/sleep.png', \"dirt nap sleep is just death being shy\"),\n",
    "    ]\n",
    "\n",
    "    results = process_image_text_pairs(image_text_pairs)\n",
    "\n",
    "    for image_path, text, result in results:\n",
    "        print(f\"Image: {image_path}\")\n",
    "        print(f\"Text assciated with image: {text}\")\n",
    "        print(\"Response:\")\n",
    "        print(result)\n",
    "        print(\"\\n---\\n\")"
   ]
  },
  {
   "cell_type": "code",
   "execution_count": 13,
   "metadata": {},
   "outputs": [
    {
     "name": "stderr",
     "output_type": "stream",
     "text": [
      "WARNING: All log messages before absl::InitializeLog() is called are written to STDERR\n",
      "I0000 00:00:1723186080.942543  496525 check_gcp_environment_no_op.cc:29] ALTS: Platforms other than Linux and Windows are not supported\n"
     ]
    },
    {
     "name": "stdout",
     "output_type": "stream",
     "text": [
      "Image: Sample Images/bill.png\n",
      "Text assciated with image: helicopter ride to the hospital if they showed me the bill mid flight i would have jumped out.\n",
      "Response:\n",
      "{\"isTextSarcastic?\": 1, \"isImageSarcastic?\": 0, \"isTogetherSarcastic?\": 1}\n",
      "\n",
      "---\n",
      "\n",
      "Image: Sample Images/airpod.png\n",
      "Text assciated with image: this rock looks like an airpod case it is obviously for rock music\n",
      "Response:\n",
      "{\"isTextSarcastic?\": 1, \"isImageSarcastic?\": 0, \"isTogetherSarcastic?\": 1}\n",
      "\n",
      "---\n",
      "\n",
      "Image: Sample Images/beard.png\n",
      "Text assciated with image: so the advice here is if you want to keep your hair on your head you shouldn't play guitar i think this is a compliment, friend\n",
      "Response:\n",
      "{\"isTextSarcastic?\": 1, \"isImageSarcastic?\": 0, \"isTogetherSarcastic?\": 1}\n",
      "\n",
      "---\n",
      "\n",
      "Image: Sample Images/sleep.png\n",
      "Text assciated with image: dirt nap sleep is just death being shy\n",
      "Response:\n",
      "{\"isTextSarcastic?\": 1, \"isImageSarcastic?\": 0, \"isTogetherSarcastic?\": 1}\n",
      "\n",
      "---\n",
      "\n"
     ]
    }
   ],
   "source": [
    "main()"
   ]
  },
  {
   "cell_type": "code",
   "execution_count": null,
   "metadata": {},
   "outputs": [],
   "source": []
  }
 ],
 "metadata": {
  "kernelspec": {
   "display_name": "ml_env",
   "language": "python",
   "name": "python3"
  },
  "language_info": {
   "codemirror_mode": {
    "name": "ipython",
    "version": 3
   },
   "file_extension": ".py",
   "mimetype": "text/x-python",
   "name": "python",
   "nbconvert_exporter": "python",
   "pygments_lexer": "ipython3",
   "version": "3.10.12"
  }
 },
 "nbformat": 4,
 "nbformat_minor": 2
}
