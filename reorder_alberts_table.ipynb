{
 "cells": [
  {
   "cell_type": "code",
   "execution_count": 1,
   "metadata": {},
   "outputs": [],
   "source": [
    "import pandas as pd"
   ]
  },
  {
   "cell_type": "code",
   "execution_count": 2,
   "metadata": {},
   "outputs": [],
   "source": [
    "df1 = pd.read_csv('csv_files/sinngam-annotated_corrected_with_contexts.csv')\n",
    "df2 = pd.read_csv('csv_files/albert-annotated_corrected_with_contexts.csv')"
   ]
  },
  {
   "cell_type": "code",
   "execution_count": 3,
   "metadata": {},
   "outputs": [
    {
     "name": "stdout",
     "output_type": "stream",
     "text": [
      "(920, 9)\n",
      "(920, 9)\n"
     ]
    }
   ],
   "source": [
    "print(df1.shape)\n",
    "print(df2.shape)"
   ]
  },
  {
   "cell_type": "code",
   "execution_count": 4,
   "metadata": {},
   "outputs": [
    {
     "data": {
      "text/html": [
       "<div>\n",
       "<style scoped>\n",
       "    .dataframe tbody tr th:only-of-type {\n",
       "        vertical-align: middle;\n",
       "    }\n",
       "\n",
       "    .dataframe tbody tr th {\n",
       "        vertical-align: top;\n",
       "    }\n",
       "\n",
       "    .dataframe thead th {\n",
       "        text-align: right;\n",
       "    }\n",
       "</style>\n",
       "<table border=\"1\" class=\"dataframe\">\n",
       "  <thead>\n",
       "    <tr style=\"text-align: right;\">\n",
       "      <th></th>\n",
       "      <th>submissionId</th>\n",
       "      <th>submissionURL</th>\n",
       "      <th>submissionTitle</th>\n",
       "      <th>context1</th>\n",
       "      <th>context2</th>\n",
       "      <th>utterance</th>\n",
       "      <th>isTextSarcastic?</th>\n",
       "      <th>isImageSarcastic?</th>\n",
       "      <th>isTogetherSarcastic?</th>\n",
       "    </tr>\n",
       "  </thead>\n",
       "  <tbody>\n",
       "    <tr>\n",
       "      <th>0</th>\n",
       "      <td>1dncran</td>\n",
       "      <td>https://i.redd.it/1xvccvq6oi8d1.jpeg</td>\n",
       "      <td>the clouds did a thing this morning...</td>\n",
       "      <td>looks like someone laid out some rails of blow</td>\n",
       "      <td>all the deities got together are they are havi...</td>\n",
       "      <td>colombian clouds</td>\n",
       "      <td>1</td>\n",
       "      <td>0</td>\n",
       "      <td>1</td>\n",
       "    </tr>\n",
       "    <tr>\n",
       "      <th>1</th>\n",
       "      <td>c9tdn7</td>\n",
       "      <td>https://i.imgur.com/6KzNep5.jpg</td>\n",
       "      <td>looks like i won't be listening to my new viny...</td>\n",
       "      <td>it’s even crammed in there so hard your mailbo...</td>\n",
       "      <td>is there's a way to ask for a refund from the ...</td>\n",
       "      <td>how can an assigned delivery person not know t...</td>\n",
       "      <td>0</td>\n",
       "      <td>0</td>\n",
       "      <td>1</td>\n",
       "    </tr>\n",
       "    <tr>\n",
       "      <th>2</th>\n",
       "      <td>kctb6e</td>\n",
       "      <td>https://i.redd.it/9knprglwx3561.jpg</td>\n",
       "      <td>sounded way better in my head</td>\n",
       "      <td>i hope we get our 9-month cupcake in a cup.</td>\n",
       "      <td>bruh wall-e's my fav pixar movie! take my upvo...</td>\n",
       "      <td>i remember when it was just supposed to be a m...</td>\n",
       "      <td>0</td>\n",
       "      <td>1</td>\n",
       "      <td>1</td>\n",
       "    </tr>\n",
       "    <tr>\n",
       "      <th>3</th>\n",
       "      <td>oagyyo</td>\n",
       "      <td>https://i.redd.it/dm6sx4nqn9871.jpg</td>\n",
       "      <td>was just trying to help the driver.</td>\n",
       "      <td>orders $10 in food. tries to leave $5.50 tip. ...</td>\n",
       "      <td>more that?</td>\n",
       "      <td>maybe it prevents accidentally doing the wrong...</td>\n",
       "      <td>0</td>\n",
       "      <td>0</td>\n",
       "      <td>1</td>\n",
       "    </tr>\n",
       "    <tr>\n",
       "      <th>4</th>\n",
       "      <td>faw3bs</td>\n",
       "      <td>https://i.imgur.com/gwVDXvB.jpg</td>\n",
       "      <td>wow</td>\n",
       "      <td>holy shit, i've seen a lot of these but that i...</td>\n",
       "      <td>the really boring dorian grey</td>\n",
       "      <td>step 1: dress up as subject.\\n\\nstep 2: walk u...</td>\n",
       "      <td>1</td>\n",
       "      <td>1</td>\n",
       "      <td>1</td>\n",
       "    </tr>\n",
       "  </tbody>\n",
       "</table>\n",
       "</div>"
      ],
      "text/plain": [
       "  submissionId                         submissionURL  \\\n",
       "0      1dncran  https://i.redd.it/1xvccvq6oi8d1.jpeg   \n",
       "1       c9tdn7       https://i.imgur.com/6KzNep5.jpg   \n",
       "2       kctb6e   https://i.redd.it/9knprglwx3561.jpg   \n",
       "3       oagyyo   https://i.redd.it/dm6sx4nqn9871.jpg   \n",
       "4       faw3bs       https://i.imgur.com/gwVDXvB.jpg   \n",
       "\n",
       "                                     submissionTitle  \\\n",
       "0             the clouds did a thing this morning...   \n",
       "1  looks like i won't be listening to my new viny...   \n",
       "2                      sounded way better in my head   \n",
       "3                was just trying to help the driver.   \n",
       "4                                                wow   \n",
       "\n",
       "                                            context1  \\\n",
       "0     looks like someone laid out some rails of blow   \n",
       "1  it’s even crammed in there so hard your mailbo...   \n",
       "2        i hope we get our 9-month cupcake in a cup.   \n",
       "3  orders $10 in food. tries to leave $5.50 tip. ...   \n",
       "4  holy shit, i've seen a lot of these but that i...   \n",
       "\n",
       "                                            context2  \\\n",
       "0  all the deities got together are they are havi...   \n",
       "1  is there's a way to ask for a refund from the ...   \n",
       "2  bruh wall-e's my fav pixar movie! take my upvo...   \n",
       "3                                         more that?   \n",
       "4                      the really boring dorian grey   \n",
       "\n",
       "                                           utterance  isTextSarcastic?  \\\n",
       "0                                   colombian clouds                 1   \n",
       "1  how can an assigned delivery person not know t...                 0   \n",
       "2  i remember when it was just supposed to be a m...                 0   \n",
       "3  maybe it prevents accidentally doing the wrong...                 0   \n",
       "4  step 1: dress up as subject.\\n\\nstep 2: walk u...                 1   \n",
       "\n",
       "   isImageSarcastic?  isTogetherSarcastic?  \n",
       "0                  0                     1  \n",
       "1                  0                     1  \n",
       "2                  1                     1  \n",
       "3                  0                     1  \n",
       "4                  1                     1  "
      ]
     },
     "execution_count": 4,
     "metadata": {},
     "output_type": "execute_result"
    }
   ],
   "source": [
    "df1.head()"
   ]
  },
  {
   "cell_type": "code",
   "execution_count": 5,
   "metadata": {},
   "outputs": [
    {
     "data": {
      "text/html": [
       "<div>\n",
       "<style scoped>\n",
       "    .dataframe tbody tr th:only-of-type {\n",
       "        vertical-align: middle;\n",
       "    }\n",
       "\n",
       "    .dataframe tbody tr th {\n",
       "        vertical-align: top;\n",
       "    }\n",
       "\n",
       "    .dataframe thead th {\n",
       "        text-align: right;\n",
       "    }\n",
       "</style>\n",
       "<table border=\"1\" class=\"dataframe\">\n",
       "  <thead>\n",
       "    <tr style=\"text-align: right;\">\n",
       "      <th></th>\n",
       "      <th>submissionId</th>\n",
       "      <th>submissionURL</th>\n",
       "      <th>submissionTitle</th>\n",
       "      <th>utterance</th>\n",
       "      <th>context1</th>\n",
       "      <th>context2</th>\n",
       "      <th>isTextSarcastic?</th>\n",
       "      <th>isImageSarcastic?</th>\n",
       "      <th>isTogetherSarcastic?</th>\n",
       "    </tr>\n",
       "  </thead>\n",
       "  <tbody>\n",
       "    <tr>\n",
       "      <th>0</th>\n",
       "      <td>1dncran</td>\n",
       "      <td>https://i.redd.it/1xvccvq6oi8d1.jpeg</td>\n",
       "      <td>the clouds did a thing this morning...</td>\n",
       "      <td>colombian clouds</td>\n",
       "      <td>looks like someone laid out some rails of blow</td>\n",
       "      <td>all the deities got together are they are havi...</td>\n",
       "      <td>1</td>\n",
       "      <td>0</td>\n",
       "      <td>1</td>\n",
       "    </tr>\n",
       "    <tr>\n",
       "      <th>1</th>\n",
       "      <td>c9tdn7</td>\n",
       "      <td>https://i.imgur.com/6KzNep5.jpg</td>\n",
       "      <td>looks like i won't be listening to my new viny...</td>\n",
       "      <td>how can an assigned delivery person not know t...</td>\n",
       "      <td>it’s even crammed in there so hard your mailbo...</td>\n",
       "      <td>is there's a way to ask for a refund from the ...</td>\n",
       "      <td>1</td>\n",
       "      <td>0</td>\n",
       "      <td>1</td>\n",
       "    </tr>\n",
       "    <tr>\n",
       "      <th>2</th>\n",
       "      <td>kctb6e</td>\n",
       "      <td>https://i.redd.it/9knprglwx3561.jpg</td>\n",
       "      <td>sounded way better in my head</td>\n",
       "      <td>i remember when it was just supposed to be a m...</td>\n",
       "      <td>i hope we get our 9-month cupcake in a cup.</td>\n",
       "      <td>bruh wall-e's my fav pixar movie! take my upvo...</td>\n",
       "      <td>1</td>\n",
       "      <td>1</td>\n",
       "      <td>1</td>\n",
       "    </tr>\n",
       "    <tr>\n",
       "      <th>3</th>\n",
       "      <td>oagyyo</td>\n",
       "      <td>https://i.redd.it/dm6sx4nqn9871.jpg</td>\n",
       "      <td>was just trying to help the driver.</td>\n",
       "      <td>maybe it prevents accidentally doing the wrong...</td>\n",
       "      <td>orders $10 in food. tries to leave $5.50 tip. ...</td>\n",
       "      <td>more that?</td>\n",
       "      <td>0</td>\n",
       "      <td>0</td>\n",
       "      <td>1</td>\n",
       "    </tr>\n",
       "    <tr>\n",
       "      <th>4</th>\n",
       "      <td>faw3bs</td>\n",
       "      <td>https://i.imgur.com/gwVDXvB.jpg</td>\n",
       "      <td>wow</td>\n",
       "      <td>step 1: dress up as subject.\\n\\nstep 2: walk u...</td>\n",
       "      <td>holy shit, i've seen a lot of these but that i...</td>\n",
       "      <td>the really boring dorian grey</td>\n",
       "      <td>0</td>\n",
       "      <td>1</td>\n",
       "      <td>1</td>\n",
       "    </tr>\n",
       "  </tbody>\n",
       "</table>\n",
       "</div>"
      ],
      "text/plain": [
       "  submissionId                         submissionURL  \\\n",
       "0      1dncran  https://i.redd.it/1xvccvq6oi8d1.jpeg   \n",
       "1       c9tdn7       https://i.imgur.com/6KzNep5.jpg   \n",
       "2       kctb6e   https://i.redd.it/9knprglwx3561.jpg   \n",
       "3       oagyyo   https://i.redd.it/dm6sx4nqn9871.jpg   \n",
       "4       faw3bs       https://i.imgur.com/gwVDXvB.jpg   \n",
       "\n",
       "                                     submissionTitle  \\\n",
       "0             the clouds did a thing this morning...   \n",
       "1  looks like i won't be listening to my new viny...   \n",
       "2                      sounded way better in my head   \n",
       "3                was just trying to help the driver.   \n",
       "4                                                wow   \n",
       "\n",
       "                                           utterance  \\\n",
       "0                                   colombian clouds   \n",
       "1  how can an assigned delivery person not know t...   \n",
       "2  i remember when it was just supposed to be a m...   \n",
       "3  maybe it prevents accidentally doing the wrong...   \n",
       "4  step 1: dress up as subject.\\n\\nstep 2: walk u...   \n",
       "\n",
       "                                            context1  \\\n",
       "0     looks like someone laid out some rails of blow   \n",
       "1  it’s even crammed in there so hard your mailbo...   \n",
       "2        i hope we get our 9-month cupcake in a cup.   \n",
       "3  orders $10 in food. tries to leave $5.50 tip. ...   \n",
       "4  holy shit, i've seen a lot of these but that i...   \n",
       "\n",
       "                                            context2  isTextSarcastic?  \\\n",
       "0  all the deities got together are they are havi...                 1   \n",
       "1  is there's a way to ask for a refund from the ...                 1   \n",
       "2  bruh wall-e's my fav pixar movie! take my upvo...                 1   \n",
       "3                                         more that?                 0   \n",
       "4                      the really boring dorian grey                 0   \n",
       "\n",
       "   isImageSarcastic?  isTogetherSarcastic?  \n",
       "0                  0                     1  \n",
       "1                  0                     1  \n",
       "2                  1                     1  \n",
       "3                  0                     1  \n",
       "4                  1                     1  "
      ]
     },
     "execution_count": 5,
     "metadata": {},
     "output_type": "execute_result"
    }
   ],
   "source": [
    "df2.head()"
   ]
  },
  {
   "cell_type": "code",
   "execution_count": 6,
   "metadata": {},
   "outputs": [],
   "source": [
    "import csv"
   ]
  },
  {
   "cell_type": "code",
   "execution_count": 7,
   "metadata": {},
   "outputs": [
    {
     "name": "stderr",
     "output_type": "stream",
     "text": [
      "/var/folders/mp/l3y183ms5xg1m3cyqrr90dk80000gn/T/ipykernel_53101/2274247004.py:19: FutureWarning: Calling int on a single element Series is deprecated and will raise a TypeError in the future. Use int(ser.iloc[0]) instead\n",
      "  is_text_sarcastic = int(df2[df2[\"submissionId\"] == submissionId]['isTextSarcastic?'])\n",
      "/var/folders/mp/l3y183ms5xg1m3cyqrr90dk80000gn/T/ipykernel_53101/2274247004.py:20: FutureWarning: Calling int on a single element Series is deprecated and will raise a TypeError in the future. Use int(ser.iloc[0]) instead\n",
      "  is_image_sarcastic = int(df2[df2[\"submissionId\"] == submissionId]['isImageSarcastic?'])\n",
      "/var/folders/mp/l3y183ms5xg1m3cyqrr90dk80000gn/T/ipykernel_53101/2274247004.py:21: FutureWarning: Calling int on a single element Series is deprecated and will raise a TypeError in the future. Use int(ser.iloc[0]) instead\n",
      "  is_together_sarcastic = int(df2[df2[\"submissionId\"] == submissionId]['isTogetherSarcastic?'])\n"
     ]
    },
    {
     "name": "stdout",
     "output_type": "stream",
     "text": [
      "Conversion completed. CSV file saved as csv_files/albert-annotated_corrected_with_contexts-ordered.csv\n"
     ]
    }
   ],
   "source": [
    "\n",
    "# Specify the keys you want to include in the CSV\n",
    "selected_keys = [\"submissionId\", \"submissionURL\",\"submissionTitle\", \"context1\", \"context2\", \"utterance\", \"isTextSarcastic?\", \"isImageSarcastic?\", \"isTogetherSarcastic?\"]\n",
    "\n",
    "csv_file_name = 'csv_files/albert-annotated_corrected_with_contexts-ordered.csv'\n",
    "\n",
    "with open(csv_file_name, 'w', newline='') as csv_file:\n",
    "    csv_writer = csv.writer(csv_file)\n",
    "\n",
    "    csv_writer.writerow(selected_keys)\n",
    "\n",
    "    for index, row in df1.iterrows():\n",
    "        submissionId = row['submissionId']\n",
    "        submissionURL = row['submissionURL']\n",
    "        submissionTitle = row['submissionTitle']\n",
    "        context1 = row['context1']\n",
    "        context2 = row['context2']\n",
    "        utterance = row['utterance']\n",
    "\n",
    "        is_text_sarcastic = int(df2[df2[\"submissionId\"] == submissionId]['isTextSarcastic?'])\n",
    "        is_image_sarcastic = int(df2[df2[\"submissionId\"] == submissionId]['isImageSarcastic?'])\n",
    "        is_together_sarcastic = int(df2[df2[\"submissionId\"] == submissionId]['isTogetherSarcastic?'])\n",
    "\n",
    "        selected_values = [submissionId, submissionURL, submissionTitle, context1,context2, utterance,is_text_sarcastic, is_image_sarcastic, is_together_sarcastic]\n",
    "\n",
    "        csv_writer.writerow(selected_values)\n",
    "\n",
    "print(f'Conversion completed. CSV file saved as {csv_file_name}')"
   ]
  },
  {
   "cell_type": "code",
   "execution_count": 25,
   "metadata": {},
   "outputs": [
    {
     "name": "stderr",
     "output_type": "stream",
     "text": [
      "/var/folders/mp/l3y183ms5xg1m3cyqrr90dk80000gn/T/ipykernel_50679/3726630887.py:1: FutureWarning: Calling int on a single element Series is deprecated and will raise a TypeError in the future. Use int(ser.iloc[0]) instead\n",
      "  int(df2[df2[\"submissionId\"] == \"oagyyo\"]['isTextSarcastic?'])\n"
     ]
    },
    {
     "data": {
      "text/plain": [
       "0"
      ]
     },
     "execution_count": 25,
     "metadata": {},
     "output_type": "execute_result"
    }
   ],
   "source": [
    "int(df2[df2[\"submissionId\"] == \"oagyyo\"]['isTextSarcastic?'])"
   ]
  },
  {
   "cell_type": "code",
   "execution_count": null,
   "metadata": {},
   "outputs": [],
   "source": []
  }
 ],
 "metadata": {
  "kernelspec": {
   "display_name": "ml_env",
   "language": "python",
   "name": "python3"
  },
  "language_info": {
   "codemirror_mode": {
    "name": "ipython",
    "version": 3
   },
   "file_extension": ".py",
   "mimetype": "text/x-python",
   "name": "python",
   "nbconvert_exporter": "python",
   "pygments_lexer": "ipython3",
   "version": "3.10.12"
  }
 },
 "nbformat": 4,
 "nbformat_minor": 2
}
